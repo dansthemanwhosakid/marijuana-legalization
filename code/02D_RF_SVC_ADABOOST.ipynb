{
 "cells": [
  {
   "cell_type": "markdown",
   "metadata": {},
   "source": [
    "# 2D - Random Forest Classifier, Support Vector Classifier, AdaBoost Classifier.\n",
    "\n",
    "#### Prop 64 - Allows marijuana growth near schools and parks. \n",
    "\n",
    "The second point in the problem statement is concerned with the exposure of marijuana to minors, schoolchildren, and teenagers with the passing of Prop 64.\n",
    "\n",
    "I am going to use the 4156 marijuana related arrests from 2015 to 2019 and use a random forest classifier, support vector classifier, and adaboost classifier to identify the accuracy of classifying whether each marijuana arrest is related to selling marijuana (target 1) or not selling marijuana (target 0). \n",
    "\n",
    "\n",
    "#### Arrests Data Dictionary:\n",
    "\n",
    "| Column Name | Type | Description |\n",
    "| --- | --- | --- | \n",
    "| Report ID | int64 | ID for the Arrest | \n",
    "| Arrest Date |  DateTime | YYYY/MM/DD |\n",
    "| Time | float64 | 24 hour military time |\n",
    "| Area ID |  int64 | 21 LAPD stations referred to as Geographic Areas that are sequentially numbered from 1-21 |\n",
    "| Area Name | object  | Area ID's name designation that references a landmark or the surrounding community that an LAPD station is responsible for|\n",
    "| Reporting District | int64 |  A four-digit code that represents a sub-area within a Geographic Area | \n",
    "| Age | int64 | Age of the arrestee | \n",
    "| Sex Code | object| F - Female, M - Male |\n",
    "| Descent Code | object | Arrestee's descent code |\n",
    "| Charge Group Code | object | Category of arrest charge |\n",
    "| Charge Group Description | object | Defines the charge provided | \n",
    "| Arrest Type Code | object | A code to indicate the type of charge the individual was arrested for. D - Dependent F - Felony I - Infraction M - Misdemeanor O - Other |\n",
    "| Charge | object | The charge the individual was arrested for |\n",
    "| Charge  Description | object | Defines the Charge provided |\n",
    "| Address | object | Street address of crime incident |\n",
    "| Location | object  | The location where the crime incident occurred. XY coordinates reflect the nearest 100 block |\n",
    "| disp_0.5_mile | int64 | Number of dispensaries within 0.5 miles of each arrest | \n",
    "| disp_1_mile | int64 | Number of dispensaries within 1 mile of each arrest | \n",
    "| school_0.5_mile | int64 | Number of school(s) within 0.5 miles of each arrest | \n",
    "| school_0.5_mile | int64 | Number of school(s) within 1 mile of each arrest | "
   ]
  },
  {
   "cell_type": "code",
   "execution_count": 27,
   "metadata": {},
   "outputs": [],
   "source": [
    "import pandas as pd\n",
    "import numpy as np\n",
    "import matplotlib.pyplot as plt\n",
    "import math\n",
    "from sklearn.model_selection import train_test_split, GridSearchCV\n",
    "from sklearn.linear_model import LogisticRegression\n",
    "from sklearn.ensemble import RandomForestClassifier, AdaBoostClassifier\n",
    "from sklearn.neighbors import KNeighborsClassifier\n",
    "from sklearn.svm import SVC\n",
    "from sklearn.feature_extraction.text import CountVectorizer\n",
    "from sklearn.pipeline import Pipeline\n",
    "from sklearn.metrics import confusion_matrix\n",
    "from sklearn.metrics import roc_auc_score\n",
    "from sklearn.preprocessing import StandardScaler\n",
    "\n",
    "import warnings\n",
    "warnings.simplefilter(action='ignore', category=FutureWarning)\n",
    "\n",
    "DO = '#7D1B7E'\n",
    "\n",
    "%matplotlib inline\n",
    "\n",
    "plt.style.use('fivethirtyeight')"
   ]
  },
  {
   "cell_type": "code",
   "execution_count": 28,
   "metadata": {},
   "outputs": [
    {
     "data": {
      "text/html": [
       "<div>\n",
       "<style scoped>\n",
       "    .dataframe tbody tr th:only-of-type {\n",
       "        vertical-align: middle;\n",
       "    }\n",
       "\n",
       "    .dataframe tbody tr th {\n",
       "        vertical-align: top;\n",
       "    }\n",
       "\n",
       "    .dataframe thead th {\n",
       "        text-align: right;\n",
       "    }\n",
       "</style>\n",
       "<table border=\"1\" class=\"dataframe\">\n",
       "  <thead>\n",
       "    <tr style=\"text-align: right;\">\n",
       "      <th></th>\n",
       "      <th>Arrest Date</th>\n",
       "      <th>Time</th>\n",
       "      <th>Area Name</th>\n",
       "      <th>Age</th>\n",
       "      <th>Sex Code</th>\n",
       "      <th>Descent Code</th>\n",
       "      <th>Arrest Type Code</th>\n",
       "      <th>Charge Description</th>\n",
       "      <th>lat</th>\n",
       "      <th>long</th>\n",
       "      <th>disp_0.5_mile</th>\n",
       "      <th>disp_1_mile</th>\n",
       "      <th>school_0.5_mile</th>\n",
       "      <th>school_1_mile</th>\n",
       "    </tr>\n",
       "  </thead>\n",
       "  <tbody>\n",
       "    <tr>\n",
       "      <td>0</td>\n",
       "      <td>2015-01-01</td>\n",
       "      <td>1610.0</td>\n",
       "      <td>Southeast</td>\n",
       "      <td>19</td>\n",
       "      <td>M</td>\n",
       "      <td>B</td>\n",
       "      <td>M</td>\n",
       "      <td>possess 28.5 grams or less of marijuana**</td>\n",
       "      <td>33.9456</td>\n",
       "      <td>-118.2739</td>\n",
       "      <td>1</td>\n",
       "      <td>2</td>\n",
       "      <td>5</td>\n",
       "      <td>16</td>\n",
       "    </tr>\n",
       "    <tr>\n",
       "      <td>1</td>\n",
       "      <td>2015-01-01</td>\n",
       "      <td>820.0</td>\n",
       "      <td>Hollywood</td>\n",
       "      <td>23</td>\n",
       "      <td>M</td>\n",
       "      <td>B</td>\n",
       "      <td>F</td>\n",
       "      <td>transport/sell/furnish/etc marijuana</td>\n",
       "      <td>34.1016</td>\n",
       "      <td>-118.3387</td>\n",
       "      <td>0</td>\n",
       "      <td>5</td>\n",
       "      <td>2</td>\n",
       "      <td>4</td>\n",
       "    </tr>\n",
       "    <tr>\n",
       "      <td>2</td>\n",
       "      <td>2015-01-02</td>\n",
       "      <td>1030.0</td>\n",
       "      <td>Pacific</td>\n",
       "      <td>24</td>\n",
       "      <td>F</td>\n",
       "      <td>W</td>\n",
       "      <td>F</td>\n",
       "      <td>transport/sell/furnish/etc marijuana</td>\n",
       "      <td>33.9920</td>\n",
       "      <td>-118.4201</td>\n",
       "      <td>1</td>\n",
       "      <td>2</td>\n",
       "      <td>5</td>\n",
       "      <td>9</td>\n",
       "    </tr>\n",
       "    <tr>\n",
       "      <td>3</td>\n",
       "      <td>2015-01-02</td>\n",
       "      <td>1530.0</td>\n",
       "      <td>Pacific</td>\n",
       "      <td>30</td>\n",
       "      <td>M</td>\n",
       "      <td>O</td>\n",
       "      <td>F</td>\n",
       "      <td>possession marijuana for sale</td>\n",
       "      <td>33.9440</td>\n",
       "      <td>-118.4073</td>\n",
       "      <td>0</td>\n",
       "      <td>1</td>\n",
       "      <td>0</td>\n",
       "      <td>0</td>\n",
       "    </tr>\n",
       "    <tr>\n",
       "      <td>4</td>\n",
       "      <td>2015-01-03</td>\n",
       "      <td>1940.0</td>\n",
       "      <td>Southwest</td>\n",
       "      <td>26</td>\n",
       "      <td>M</td>\n",
       "      <td>H</td>\n",
       "      <td>F</td>\n",
       "      <td>transport/sell/furnish/etc marijuana</td>\n",
       "      <td>34.0260</td>\n",
       "      <td>-118.3652</td>\n",
       "      <td>0</td>\n",
       "      <td>1</td>\n",
       "      <td>2</td>\n",
       "      <td>5</td>\n",
       "    </tr>\n",
       "  </tbody>\n",
       "</table>\n",
       "</div>"
      ],
      "text/plain": [
       "  Arrest Date    Time  Area Name  Age Sex Code Descent Code Arrest Type Code  \\\n",
       "0  2015-01-01  1610.0  Southeast   19        M            B                M   \n",
       "1  2015-01-01   820.0  Hollywood   23        M            B                F   \n",
       "2  2015-01-02  1030.0    Pacific   24        F            W                F   \n",
       "3  2015-01-02  1530.0    Pacific   30        M            O                F   \n",
       "4  2015-01-03  1940.0  Southwest   26        M            H                F   \n",
       "\n",
       "                          Charge Description      lat      long  \\\n",
       "0  possess 28.5 grams or less of marijuana**  33.9456 -118.2739   \n",
       "1       transport/sell/furnish/etc marijuana  34.1016 -118.3387   \n",
       "2       transport/sell/furnish/etc marijuana  33.9920 -118.4201   \n",
       "3              possession marijuana for sale  33.9440 -118.4073   \n",
       "4       transport/sell/furnish/etc marijuana  34.0260 -118.3652   \n",
       "\n",
       "   disp_0.5_mile  disp_1_mile  school_0.5_mile  school_1_mile  \n",
       "0              1            2                5             16  \n",
       "1              0            5                2              4  \n",
       "2              1            2                5              9  \n",
       "3              0            1                0              0  \n",
       "4              0            1                2              5  "
      ]
     },
     "execution_count": 28,
     "metadata": {},
     "output_type": "execute_result"
    }
   ],
   "source": [
    "arrests = pd.read_csv('../data/all_marijuana_arrests.csv')\n",
    "arrests.head()"
   ]
  },
  {
   "cell_type": "markdown",
   "metadata": {},
   "source": [
    "### Creating Classes\n",
    "\n",
    "I am going to create 2 different classes, `sell` and `not sell`. Selling marijuana exposes marijuana to children more, and the `not sell` class deals with marijuana arrests that affect the arrestee, such as the possession of marijuana. The charges based in the `Charge Description` will be grouped accordingly."
   ]
  },
  {
   "cell_type": "code",
   "execution_count": 29,
   "metadata": {},
   "outputs": [],
   "source": [
    "charge_description_list = list(arrests['Charge Description'].unique())"
   ]
  },
  {
   "cell_type": "code",
   "execution_count": 30,
   "metadata": {},
   "outputs": [
    {
     "data": {
      "text/plain": [
       "['attempt - sell/furnish/etc marijuana',\n",
       " 'cultivate >6 marij plants viol envrnt law',\n",
       " 'cultivating <6 marijuana plants',\n",
       " 'furnishing marijuana to minor over 14 yrs',\n",
       " 'give/transport/etc < 28.5 grams marijuana',\n",
       " 'induce/etc minor to use/sell marijuana',\n",
       " 'minor poss 28.5+ grams marijuana/school',\n",
       " 'minor poss < 28.5 grams marijuana/school',\n",
       " 'poss for sale of marijuana to a minor',\n",
       " 'poss marijuana or concentrated cannabis',\n",
       " 'poss of more than 28.5 grams of marijuana',\n",
       " 'poss open cont/packg marij drivr/passnger',\n",
       " 'poss/sale marij ovr 21 employ per 20/belw',\n",
       " 'poss/smoke/ingest marij school/daycare/yc',\n",
       " 'possess 28.5 grams or less of marijuana',\n",
       " 'possess 28.5 grams or less of marijuana**',\n",
       " 'possess marijuana for sale',\n",
       " 'possess marijuana for sale under age 18',\n",
       " 'possess of marijuana while driving veh',\n",
       " 'possession marijuana for sale',\n",
       " 'possession of marijuana in school',\n",
       " 'sale/offer to sell/transport marijuana',\n",
       " 'sale/trans >28.5g marijuana or >4g',\n",
       " 'sale/transport marijuana to a minor',\n",
       " 'sale/transport marijuana w/priors',\n",
       " 'sell/furnish/etc marij/hash over 1 oz',\n",
       " 'smoke marij loc where smoke tobacco proh',\n",
       " 'smoke/ingest marijuana in public place',\n",
       " 'transport/etc marijuana',\n",
       " 'transport/sell/furnish/etc marijuana',\n",
       " 'unlawfully plant/cultivate/etc marijuana',\n",
       " 'use minor under 14 trans/sell marijuana']"
      ]
     },
     "execution_count": 30,
     "metadata": {},
     "output_type": "execute_result"
    }
   ],
   "source": [
    "charge_description_list.sort()\n",
    "charge_description_list"
   ]
  },
  {
   "cell_type": "code",
   "execution_count": 31,
   "metadata": {},
   "outputs": [
    {
     "data": {
      "text/plain": [
       "sell        0.632579\n",
       "not sell    0.367421\n",
       "Name: Charge Description, dtype: float64"
      ]
     },
     "execution_count": 31,
     "metadata": {},
     "output_type": "execute_result"
    }
   ],
   "source": [
    "z = arrests['Charge Description'].map(lambda x: 'sell' if 'sale' in x else x)\n",
    "z = z.map(lambda x: 'sell' if 'sell' in x else x)\n",
    "z = z.map(lambda x: 'not sell' if 'sell' not in x else x)\n",
    "z.value_counts(normalize = True)"
   ]
  },
  {
   "cell_type": "markdown",
   "metadata": {},
   "source": [
    "Since the classes are a bit unbalanced, I am going to stratify them so there is the same proportion of `sell` and `not sell` observations in both the train and test datasets."
   ]
  },
  {
   "cell_type": "code",
   "execution_count": 32,
   "metadata": {},
   "outputs": [],
   "source": [
    "arrests['target'] = z "
   ]
  },
  {
   "cell_type": "code",
   "execution_count": 33,
   "metadata": {},
   "outputs": [],
   "source": [
    "arrests['target'] = arrests['target'].map(lambda x: 1 if x == 'sell' else 0)"
   ]
  },
  {
   "cell_type": "markdown",
   "metadata": {},
   "source": [
    "Creating the predictor variables `X`:\n",
    "\n",
    "Since `disp_1_mile` includes values in `disp_0.5_mile` and `school_1_mile` includes values in `school_0.5_mile`, I will drop both `disp_0.5_mile` and `school_0.5_mile` due to the heavy correlation."
   ]
  },
  {
   "cell_type": "code",
   "execution_count": 34,
   "metadata": {},
   "outputs": [
    {
     "data": {
      "text/html": [
       "<div>\n",
       "<style scoped>\n",
       "    .dataframe tbody tr th:only-of-type {\n",
       "        vertical-align: middle;\n",
       "    }\n",
       "\n",
       "    .dataframe tbody tr th {\n",
       "        vertical-align: top;\n",
       "    }\n",
       "\n",
       "    .dataframe thead th {\n",
       "        text-align: right;\n",
       "    }\n",
       "</style>\n",
       "<table border=\"1\" class=\"dataframe\">\n",
       "  <thead>\n",
       "    <tr style=\"text-align: right;\">\n",
       "      <th></th>\n",
       "      <th>disp_0.5_mile</th>\n",
       "      <th>disp_1_mile</th>\n",
       "    </tr>\n",
       "  </thead>\n",
       "  <tbody>\n",
       "    <tr>\n",
       "      <td>disp_0.5_mile</td>\n",
       "      <td>1.000000</td>\n",
       "      <td>0.821403</td>\n",
       "    </tr>\n",
       "    <tr>\n",
       "      <td>disp_1_mile</td>\n",
       "      <td>0.821403</td>\n",
       "      <td>1.000000</td>\n",
       "    </tr>\n",
       "  </tbody>\n",
       "</table>\n",
       "</div>"
      ],
      "text/plain": [
       "               disp_0.5_mile  disp_1_mile\n",
       "disp_0.5_mile       1.000000     0.821403\n",
       "disp_1_mile         0.821403     1.000000"
      ]
     },
     "execution_count": 34,
     "metadata": {},
     "output_type": "execute_result"
    }
   ],
   "source": [
    "arrests[['disp_0.5_mile','disp_1_mile']].corr()"
   ]
  },
  {
   "cell_type": "code",
   "execution_count": 35,
   "metadata": {},
   "outputs": [
    {
     "data": {
      "text/html": [
       "<div>\n",
       "<style scoped>\n",
       "    .dataframe tbody tr th:only-of-type {\n",
       "        vertical-align: middle;\n",
       "    }\n",
       "\n",
       "    .dataframe tbody tr th {\n",
       "        vertical-align: top;\n",
       "    }\n",
       "\n",
       "    .dataframe thead th {\n",
       "        text-align: right;\n",
       "    }\n",
       "</style>\n",
       "<table border=\"1\" class=\"dataframe\">\n",
       "  <thead>\n",
       "    <tr style=\"text-align: right;\">\n",
       "      <th></th>\n",
       "      <th>school_0.5_mile</th>\n",
       "      <th>school_1_mile</th>\n",
       "    </tr>\n",
       "  </thead>\n",
       "  <tbody>\n",
       "    <tr>\n",
       "      <td>school_0.5_mile</td>\n",
       "      <td>1.000000</td>\n",
       "      <td>0.771906</td>\n",
       "    </tr>\n",
       "    <tr>\n",
       "      <td>school_1_mile</td>\n",
       "      <td>0.771906</td>\n",
       "      <td>1.000000</td>\n",
       "    </tr>\n",
       "  </tbody>\n",
       "</table>\n",
       "</div>"
      ],
      "text/plain": [
       "                 school_0.5_mile  school_1_mile\n",
       "school_0.5_mile         1.000000       0.771906\n",
       "school_1_mile           0.771906       1.000000"
      ]
     },
     "execution_count": 35,
     "metadata": {},
     "output_type": "execute_result"
    }
   ],
   "source": [
    "arrests[['school_0.5_mile','school_1_mile']].corr()"
   ]
  },
  {
   "cell_type": "code",
   "execution_count": 36,
   "metadata": {
    "scrolled": true
   },
   "outputs": [
    {
     "data": {
      "text/html": [
       "<div>\n",
       "<style scoped>\n",
       "    .dataframe tbody tr th:only-of-type {\n",
       "        vertical-align: middle;\n",
       "    }\n",
       "\n",
       "    .dataframe tbody tr th {\n",
       "        vertical-align: top;\n",
       "    }\n",
       "\n",
       "    .dataframe thead th {\n",
       "        text-align: right;\n",
       "    }\n",
       "</style>\n",
       "<table border=\"1\" class=\"dataframe\">\n",
       "  <thead>\n",
       "    <tr style=\"text-align: right;\">\n",
       "      <th></th>\n",
       "      <th>Arrest Date</th>\n",
       "      <th>Time</th>\n",
       "      <th>Area Name</th>\n",
       "      <th>Age</th>\n",
       "      <th>Sex Code</th>\n",
       "      <th>Descent Code</th>\n",
       "      <th>Arrest Type Code</th>\n",
       "      <th>Charge Description</th>\n",
       "      <th>lat</th>\n",
       "      <th>long</th>\n",
       "      <th>disp_0.5_mile</th>\n",
       "      <th>disp_1_mile</th>\n",
       "      <th>school_0.5_mile</th>\n",
       "      <th>school_1_mile</th>\n",
       "      <th>target</th>\n",
       "    </tr>\n",
       "  </thead>\n",
       "  <tbody>\n",
       "    <tr>\n",
       "      <td>0</td>\n",
       "      <td>2015-01-01</td>\n",
       "      <td>1610.0</td>\n",
       "      <td>Southeast</td>\n",
       "      <td>19</td>\n",
       "      <td>M</td>\n",
       "      <td>B</td>\n",
       "      <td>M</td>\n",
       "      <td>possess 28.5 grams or less of marijuana**</td>\n",
       "      <td>33.9456</td>\n",
       "      <td>-118.2739</td>\n",
       "      <td>1</td>\n",
       "      <td>2</td>\n",
       "      <td>5</td>\n",
       "      <td>16</td>\n",
       "      <td>0</td>\n",
       "    </tr>\n",
       "    <tr>\n",
       "      <td>1</td>\n",
       "      <td>2015-01-01</td>\n",
       "      <td>820.0</td>\n",
       "      <td>Hollywood</td>\n",
       "      <td>23</td>\n",
       "      <td>M</td>\n",
       "      <td>B</td>\n",
       "      <td>F</td>\n",
       "      <td>transport/sell/furnish/etc marijuana</td>\n",
       "      <td>34.1016</td>\n",
       "      <td>-118.3387</td>\n",
       "      <td>0</td>\n",
       "      <td>5</td>\n",
       "      <td>2</td>\n",
       "      <td>4</td>\n",
       "      <td>1</td>\n",
       "    </tr>\n",
       "    <tr>\n",
       "      <td>2</td>\n",
       "      <td>2015-01-02</td>\n",
       "      <td>1030.0</td>\n",
       "      <td>Pacific</td>\n",
       "      <td>24</td>\n",
       "      <td>F</td>\n",
       "      <td>W</td>\n",
       "      <td>F</td>\n",
       "      <td>transport/sell/furnish/etc marijuana</td>\n",
       "      <td>33.9920</td>\n",
       "      <td>-118.4201</td>\n",
       "      <td>1</td>\n",
       "      <td>2</td>\n",
       "      <td>5</td>\n",
       "      <td>9</td>\n",
       "      <td>1</td>\n",
       "    </tr>\n",
       "    <tr>\n",
       "      <td>3</td>\n",
       "      <td>2015-01-02</td>\n",
       "      <td>1530.0</td>\n",
       "      <td>Pacific</td>\n",
       "      <td>30</td>\n",
       "      <td>M</td>\n",
       "      <td>O</td>\n",
       "      <td>F</td>\n",
       "      <td>possession marijuana for sale</td>\n",
       "      <td>33.9440</td>\n",
       "      <td>-118.4073</td>\n",
       "      <td>0</td>\n",
       "      <td>1</td>\n",
       "      <td>0</td>\n",
       "      <td>0</td>\n",
       "      <td>1</td>\n",
       "    </tr>\n",
       "    <tr>\n",
       "      <td>4</td>\n",
       "      <td>2015-01-03</td>\n",
       "      <td>1940.0</td>\n",
       "      <td>Southwest</td>\n",
       "      <td>26</td>\n",
       "      <td>M</td>\n",
       "      <td>H</td>\n",
       "      <td>F</td>\n",
       "      <td>transport/sell/furnish/etc marijuana</td>\n",
       "      <td>34.0260</td>\n",
       "      <td>-118.3652</td>\n",
       "      <td>0</td>\n",
       "      <td>1</td>\n",
       "      <td>2</td>\n",
       "      <td>5</td>\n",
       "      <td>1</td>\n",
       "    </tr>\n",
       "  </tbody>\n",
       "</table>\n",
       "</div>"
      ],
      "text/plain": [
       "  Arrest Date    Time  Area Name  Age Sex Code Descent Code Arrest Type Code  \\\n",
       "0  2015-01-01  1610.0  Southeast   19        M            B                M   \n",
       "1  2015-01-01   820.0  Hollywood   23        M            B                F   \n",
       "2  2015-01-02  1030.0    Pacific   24        F            W                F   \n",
       "3  2015-01-02  1530.0    Pacific   30        M            O                F   \n",
       "4  2015-01-03  1940.0  Southwest   26        M            H                F   \n",
       "\n",
       "                          Charge Description      lat      long  \\\n",
       "0  possess 28.5 grams or less of marijuana**  33.9456 -118.2739   \n",
       "1       transport/sell/furnish/etc marijuana  34.1016 -118.3387   \n",
       "2       transport/sell/furnish/etc marijuana  33.9920 -118.4201   \n",
       "3              possession marijuana for sale  33.9440 -118.4073   \n",
       "4       transport/sell/furnish/etc marijuana  34.0260 -118.3652   \n",
       "\n",
       "   disp_0.5_mile  disp_1_mile  school_0.5_mile  school_1_mile  target  \n",
       "0              1            2                5             16       0  \n",
       "1              0            5                2              4       1  \n",
       "2              1            2                5              9       1  \n",
       "3              0            1                0              0       1  \n",
       "4              0            1                2              5       1  "
      ]
     },
     "execution_count": 36,
     "metadata": {},
     "output_type": "execute_result"
    }
   ],
   "source": [
    "arrests.head()"
   ]
  },
  {
   "cell_type": "markdown",
   "metadata": {},
   "source": [
    "### Train Test Split"
   ]
  },
  {
   "cell_type": "code",
   "execution_count": 37,
   "metadata": {},
   "outputs": [],
   "source": [
    "X = arrests.drop(['Arrest Date','Charge Description','target','disp_0.5_mile','school_0.5_mile'],1)\n",
    "\n",
    "# creating dummy variables for sex, descent, and arrest type code\n",
    "X = pd.get_dummies(X)\n",
    "y = arrests['target']\n",
    "\n",
    "X_train, X_test, y_train, y_test = train_test_split(X, y, random_state = 42, stratify = y)"
   ]
  },
  {
   "cell_type": "markdown",
   "metadata": {},
   "source": [
    "### Fitting Random Forest Classifier"
   ]
  },
  {
   "cell_type": "code",
   "execution_count": 38,
   "metadata": {},
   "outputs": [
    {
     "name": "stdout",
     "output_type": "stream",
     "text": [
      "Random Forest Train Accuracy: 0.99\n",
      "Random Forest Test Accuracy: 0.92\n"
     ]
    }
   ],
   "source": [
    "# Fitting the Random Forest Classifier\n",
    "\n",
    "rf = RandomForestClassifier()\n",
    "rf.fit(X_train, y_train)\n",
    "\n",
    "# train score\n",
    "train_accuracy = rf.score(X_train, y_train)\n",
    "print(f'Random Forest Train Accuracy: {round(train_accuracy,2)}')\n",
    "\n",
    "# test score\n",
    "test_accuracy = rf.score(X_test, y_test)\n",
    "print(f'Random Forest Test Accuracy: {round(test_accuracy,2)}')"
   ]
  },
  {
   "cell_type": "markdown",
   "metadata": {},
   "source": [
    "### Fitting AdaBoost Classifier"
   ]
  },
  {
   "cell_type": "code",
   "execution_count": 39,
   "metadata": {},
   "outputs": [
    {
     "name": "stdout",
     "output_type": "stream",
     "text": [
      "AdaBoost Train Accuracy score: 0.8845043310875842\n",
      "AdaBoost Test Accuracy score: 0.9008662175168431\n",
      "\n"
     ]
    }
   ],
   "source": [
    "ada = AdaBoostClassifier()\n",
    "ada.fit(X_train, y_train)\n",
    "print(f'AdaBoost Train Accuracy score: {ada.score(X_train,y_train)}')\n",
    "print(f'AdaBoost Test Accuracy score: {ada.score(X_test,y_test)}\\n')"
   ]
  },
  {
   "cell_type": "markdown",
   "metadata": {},
   "source": [
    "### Fitting Support Vector Classifier"
   ]
  },
  {
   "cell_type": "code",
   "execution_count": 40,
   "metadata": {
    "scrolled": true
   },
   "outputs": [
    {
     "name": "stdout",
     "output_type": "stream",
     "text": [
      "Support Vector Classifier Train Accuracy score: 0.8886750080205326\n",
      "Support Vector Classifier Test Accuracy score: 0.6515880654475458\n"
     ]
    }
   ],
   "source": [
    "svc = SVC()\n",
    "svc.fit(X_train, y_train)\n",
    "print(f'Support Vector Classifier Train Accuracy score: {svc.score(X_train,y_train)}')\n",
    "print(f'Support Vector Classifier Test Accuracy score: {svc.score(X_test,y_test)}')"
   ]
  }
 ],
 "metadata": {
  "kernelspec": {
   "display_name": "Python 3",
   "language": "python",
   "name": "python3"
  },
  "language_info": {
   "codemirror_mode": {
    "name": "ipython",
    "version": 3
   },
   "file_extension": ".py",
   "mimetype": "text/x-python",
   "name": "python",
   "nbconvert_exporter": "python",
   "pygments_lexer": "ipython3",
   "version": "3.7.4"
  }
 },
 "nbformat": 4,
 "nbformat_minor": 2
}
