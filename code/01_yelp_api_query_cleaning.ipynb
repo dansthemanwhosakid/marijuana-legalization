{
 "cells": [
  {
   "cell_type": "markdown",
   "metadata": {},
   "source": [
    "# Notebook 1: Querying Yelp API\n",
    "\n",
    "In this notebook, we will query yelp's api for marijuana dispensaries in los angeles. We plan on collecting all of the dispensaries and looking at crimes within a certain radius of each dispensary over 4 years, the 2 leading up to when marijuana was voted to be legalized, and the 2 years after it was voted to be legalized."
   ]
  },
  {
   "cell_type": "code",
   "execution_count": 3,
   "metadata": {},
   "outputs": [],
   "source": [
    "import pandas as pd\n",
    "import numpy as np\n",
    "import time\n",
    "import re\n",
    "import json\n",
    "import pickle"
   ]
  },
  {
   "cell_type": "code",
   "execution_count": 2,
   "metadata": {},
   "outputs": [
    {
     "data": {
      "text/plain": [
       "'/Users/adamburpee/dsi/project_4/adam_burpee_la7/code'"
      ]
     },
     "execution_count": 2,
     "metadata": {},
     "output_type": "execute_result"
    }
   ],
   "source": [
    "pwd"
   ]
  },
  {
   "cell_type": "code",
   "execution_count": 43,
   "metadata": {},
   "outputs": [
    {
     "name": "stdout",
     "output_type": "stream",
     "text": [
      "Requirement already satisfied: yelp in /Users/adamburpee/anaconda3/lib/python3.7/site-packages (1.0.2)\n",
      "Requirement already satisfied: oauth2 in /Users/adamburpee/anaconda3/lib/python3.7/site-packages (from yelp) (1.9.0.post1)\n",
      "Requirement already satisfied: six in /Users/adamburpee/anaconda3/lib/python3.7/site-packages (from yelp) (1.12.0)\n",
      "Requirement already satisfied: httplib2 in /Users/adamburpee/anaconda3/lib/python3.7/site-packages (from yelp) (0.12.1)\n",
      "Note: you may need to restart the kernel to use updated packages.\n"
     ]
    }
   ],
   "source": [
    "pip install yelp"
   ]
  },
  {
   "cell_type": "code",
   "execution_count": 44,
   "metadata": {},
   "outputs": [
    {
     "name": "stdout",
     "output_type": "stream",
     "text": [
      "Collecting yelpapi\n",
      "  Downloading https://files.pythonhosted.org/packages/bb/07/f01be72829a3ce2da71bfde33d4bfe9ce5d8173a5a0470420fcb4dbacdd9/yelpapi-2.3.0-py2.py3-none-any.whl\n",
      "Requirement already satisfied: requests in /Users/adamburpee/anaconda3/lib/python3.7/site-packages (from yelpapi) (2.21.0)\n",
      "Requirement already satisfied: idna<2.9,>=2.5 in /Users/adamburpee/anaconda3/lib/python3.7/site-packages (from requests->yelpapi) (2.8)\n",
      "Requirement already satisfied: chardet<3.1.0,>=3.0.2 in /Users/adamburpee/anaconda3/lib/python3.7/site-packages (from requests->yelpapi) (3.0.4)\n",
      "Requirement already satisfied: certifi>=2017.4.17 in /Users/adamburpee/anaconda3/lib/python3.7/site-packages (from requests->yelpapi) (2019.3.9)\n",
      "Requirement already satisfied: urllib3<1.25,>=1.21.1 in /Users/adamburpee/anaconda3/lib/python3.7/site-packages (from requests->yelpapi) (1.24.1)\n",
      "Installing collected packages: yelpapi\n",
      "Successfully installed yelpapi-2.3.0\n",
      "Note: you may need to restart the kernel to use updated packages.\n"
     ]
    }
   ],
   "source": [
    "pip install yelpapi"
   ]
  },
  {
   "cell_type": "markdown",
   "metadata": {},
   "source": [
    "Importing necessary modules for querying yelp's api. "
   ]
  },
  {
   "cell_type": "code",
   "execution_count": 8,
   "metadata": {},
   "outputs": [],
   "source": [
    "from yelpapi import YelpAPI"
   ]
  },
  {
   "cell_type": "code",
   "execution_count": 9,
   "metadata": {},
   "outputs": [],
   "source": [
    "from yelp.client import Client\n",
    "\n",
    "MY_API_KEY = \"iR_MtPHW6J6afZlZTRc-yugv-BTa_1Ms_aRlwda5wDLwO9kPPOCvn67-ZDCHQDRWHJgOKeAr5j6KUzGauok2XzFdqn4ewSTT2oFdJGxECFIkickZbIOE_zJq2By1XHYx\" #  Replace this with your real API key\n",
    "\n",
    "client = Client(MY_API_KEY)"
   ]
  },
  {
   "cell_type": "markdown",
   "metadata": {},
   "source": [
    "Running a function that takes parameters for the yelp query. "
   ]
  },
  {
   "cell_type": "code",
   "execution_count": 17,
   "metadata": {},
   "outputs": [],
   "source": [
    "def get_search_parameters(term, location, limit):\n",
    "    #See the Yelp API for more details\n",
    "    params = {}\n",
    "    params[\"term\"] = term\n",
    "    params['location'] = location\n",
    "    #params[\"ll\"] = \"{},{}\".format(str(lat),str(long))\n",
    "    #params[\"radius_filter\"] = \"2000\"\n",
    "    params[\"limit\"] = limit\n",
    "\n",
    "    return params"
   ]
  },
  {
   "cell_type": "markdown",
   "metadata": {},
   "source": [
    "This function will create a logfile and format the file names with a unique timestamp."
   ]
  },
  {
   "cell_type": "code",
   "execution_count": 18,
   "metadata": {},
   "outputs": [],
   "source": [
    "def filename_format_log(file_path, \n",
    "                        logfile = './data/file_log.txt',  \n",
    "                        file_description = None): \n",
    "   \n",
    "    try:\n",
    "        ext = re.search('(?<!^)(?<!\\.)\\.(?!\\.)', file_path).start() \n",
    "    except:\n",
    "        raise NameError('Please enter a relative path with a file extension.') \n",
    "    \n",
    "    stamp = re.search('(?<!^)(?<!\\.)[a-z]+_[a-z]+(?=\\.)', file_path).start()\n",
    "    formatted_name = f'{file_path[:stamp]}{round(time.time())}_{file_path[stamp:]}'  \n",
    "    if not file_description:\n",
    "        file_description = f'Pull: {time.asctime(time.gmtime(round(time.time())))}'\n",
    "    with open(logfile, 'a+') as f:\n",
    "        f.write(f'{formatted_name}: {file_description}\\n')\n",
    "    return formatted_name, file_description"
   ]
  },
  {
   "cell_type": "markdown",
   "metadata": {},
   "source": [
    "This function will collect dispensaries and parse them into a dataframe with the features of interest, saving out the raw data for each pull. After saving each query, it runs a time delay and then continues for as many queries as I set."
   ]
  },
  {
   "cell_type": "code",
   "execution_count": 44,
   "metadata": {},
   "outputs": [],
   "source": [
    "def yelp_query(category, location, offset_number=0, n_samples=1000):\n",
    "    yelp_api = YelpAPI('iR_MtPHW6J6afZlZTRc-yugv-BTa_1Ms_aRlwda5wDLwO9kPPOCvn67-ZDCHQDRWHJgOKeAr5j6KUzGauok2XzFdqn4ewSTT2oFdJGxECFIkickZbIOE_zJq2By1XHYx')\n",
    "    last_result = round(time.time())\n",
    "    yelp_results = []\n",
    "    size = 50\n",
    "    loops = 0\n",
    "    run = 1\n",
    "    offset_count = offset_number\n",
    "   \n",
    "    \n",
    "    while loops < n_samples:\n",
    "        \n",
    "        print(f'Starting query {run}')\n",
    "        posts = yelp_api.search_query(categories= category, location = location, offset=offset_count, limit=size) \n",
    "            \n",
    "        yelp_results.extend(posts['businesses'])\n",
    "        loops += size\n",
    "        offset_count += 50\n",
    "        time.sleep(3) \n",
    "        run += 1\n",
    "       \n",
    "    \n",
    "    formatted_name, file_description = filename_format_log(file_path =f'./data/raw_{category}.json')\n",
    "    with open(formatted_name, 'w+') as f:\n",
    "        json.dump(yelp_results, f)\n",
    "    \n",
    "    print(f'Saved and completed query and returned {len(yelp_results)} {category}s.')\n",
    "    print(f'Yelp text is ready for processing.')\n",
    "    return print(f'Last timestamp was {round(time.time())}.')"
   ]
  },
  {
   "cell_type": "markdown",
   "metadata": {},
   "source": [
    "Querying dispensaries in los angeles, looking for 1000 samples. The query will stop once there are no more dispensaries. "
   ]
  },
  {
   "cell_type": "code",
   "execution_count": 94,
   "metadata": {},
   "outputs": [
    {
     "name": "stdout",
     "output_type": "stream",
     "text": [
      "Starting query 1\n",
      "Starting query 2\n",
      "Starting query 3\n",
      "Starting query 4\n",
      "Starting query 5\n",
      "Starting query 6\n",
      "Starting query 7\n",
      "Starting query 8\n",
      "Starting query 9\n",
      "Starting query 10\n",
      "Starting query 11\n",
      "Starting query 12\n",
      "Starting query 13\n",
      "Starting query 14\n",
      "Starting query 15\n",
      "Starting query 16\n",
      "Starting query 17\n",
      "Starting query 18\n",
      "Starting query 19\n",
      "Starting query 20\n",
      "Saved and completed query and returned 162 cannabisdispensariess.\n",
      "Yelp text is ready for processing.\n",
      "Last timestamp was 1555437201.\n"
     ]
    }
   ],
   "source": [
    "yelp_query('cannabisdispensaries', 'los angeles', n_samples = 1000)"
   ]
  },
  {
   "cell_type": "code",
   "execution_count": 7,
   "metadata": {},
   "outputs": [],
   "source": [
    "with open(f'../data/1555437201_raw_cannabisdispensaries.json', 'r') as f:\n",
    "    weed_list = json.load(f)"
   ]
  },
  {
   "cell_type": "markdown",
   "metadata": {},
   "source": [
    "Creating a latitude and longitude list so that we can input those in two columns instead of having a dictionary of lat and long values. in a column. "
   ]
  },
  {
   "cell_type": "code",
   "execution_count": 8,
   "metadata": {},
   "outputs": [],
   "source": [
    "lat_list = [weed_list[i]['coordinates']['latitude'] for i in range(len(weed_list))]"
   ]
  },
  {
   "cell_type": "code",
   "execution_count": 9,
   "metadata": {},
   "outputs": [],
   "source": [
    "long_list = [weed_list[i]['coordinates']['longitude'] for i in range(len(weed_list))]"
   ]
  },
  {
   "cell_type": "code",
   "execution_count": 10,
   "metadata": {},
   "outputs": [
    {
     "data": {
      "text/plain": [
       "{'id': 'NcgdskgqNMrpM4K2nkWTIw',\n",
       " 'alias': 'extra-special-delivery-north-hollywood-16',\n",
       " 'name': 'Extra Special Delivery',\n",
       " 'image_url': 'https://s3-media1.fl.yelpcdn.com/bphoto/GPZ7g9247Ckdvmr7Atki1g/o.jpg',\n",
       " 'is_closed': False,\n",
       " 'url': 'https://www.yelp.com/biz/extra-special-delivery-north-hollywood-16?adjust_creative=sZ3yryoyE3Dcs3GsAvlcFA&utm_campaign=yelp_api_v3&utm_medium=api_v3_business_search&utm_source=sZ3yryoyE3Dcs3GsAvlcFA',\n",
       " 'review_count': 68,\n",
       " 'categories': [{'alias': 'cannabisdispensaries',\n",
       "   'title': 'Cannabis Dispensaries'}],\n",
       " 'rating': 5.0,\n",
       " 'coordinates': {'latitude': 34.1667203, 'longitude': -118.3751849},\n",
       " 'transactions': [],\n",
       " 'price': '$',\n",
       " 'location': {'address1': '5250 Lankershim',\n",
       "  'address2': None,\n",
       "  'address3': '',\n",
       "  'city': 'North Hollywood',\n",
       "  'zip_code': '91601',\n",
       "  'country': 'US',\n",
       "  'state': 'CA',\n",
       "  'display_address': ['5250 Lankershim', 'North Hollywood, CA 91601']},\n",
       " 'phone': '+18886549872',\n",
       " 'display_phone': '(888) 654-9872',\n",
       " 'distance': 12696.088764539712}"
      ]
     },
     "execution_count": 10,
     "metadata": {},
     "output_type": "execute_result"
    }
   ],
   "source": [
    "weed_list[0]"
   ]
  },
  {
   "cell_type": "markdown",
   "metadata": {},
   "source": [
    "Parsing the data into a dataframe. "
   ]
  },
  {
   "cell_type": "code",
   "execution_count": 22,
   "metadata": {},
   "outputs": [],
   "source": [
    "def yelp_parse(sample, df):\n",
    "    \n",
    "    col_list = ['name',\n",
    "                'is_closed',\n",
    "                'url',\n",
    "                'rating',\n",
    "                'coordinates',\n",
    "                'location',\n",
    "#                 'rating',\n",
    "                'price',\n",
    "                'review_count'\n",
    "                #'coordinates'\n",
    "                #'location'\n",
    "                ]\n",
    "    \n",
    "    df = pd.DataFrame(sample)\n",
    "    df = df[col_list]\n",
    "    \n",
    "    #df.rename(columns={'subreddit':'subreddit'}, inplace=True)\n",
    "    \n",
    "    col_order = ['name',\n",
    "                'is_closed',\n",
    "                'url',\n",
    "                'rating',\n",
    "                'coordinates',\n",
    "                'location',\n",
    "#                 'rating',\n",
    "                'price',\n",
    "                'review_count'\n",
    "                #'coordinates'\n",
    "                #'location'\n",
    "                ]\n",
    "\n",
    "    return df[col_order]"
   ]
  },
  {
   "cell_type": "code",
   "execution_count": 23,
   "metadata": {},
   "outputs": [],
   "source": [
    "df_weed = yelp_parse(weed_list, df = 'df_weed')"
   ]
  },
  {
   "cell_type": "code",
   "execution_count": 24,
   "metadata": {},
   "outputs": [
    {
     "data": {
      "text/html": [
       "<div>\n",
       "<style scoped>\n",
       "    .dataframe tbody tr th:only-of-type {\n",
       "        vertical-align: middle;\n",
       "    }\n",
       "\n",
       "    .dataframe tbody tr th {\n",
       "        vertical-align: top;\n",
       "    }\n",
       "\n",
       "    .dataframe thead th {\n",
       "        text-align: right;\n",
       "    }\n",
       "</style>\n",
       "<table border=\"1\" class=\"dataframe\">\n",
       "  <thead>\n",
       "    <tr style=\"text-align: right;\">\n",
       "      <th></th>\n",
       "      <th>name</th>\n",
       "      <th>is_closed</th>\n",
       "      <th>url</th>\n",
       "      <th>rating</th>\n",
       "      <th>coordinates</th>\n",
       "      <th>location</th>\n",
       "      <th>price</th>\n",
       "      <th>review_count</th>\n",
       "    </tr>\n",
       "  </thead>\n",
       "  <tbody>\n",
       "    <tr>\n",
       "      <th>0</th>\n",
       "      <td>Extra Special Delivery</td>\n",
       "      <td>False</td>\n",
       "      <td>https://www.yelp.com/biz/extra-special-deliver...</td>\n",
       "      <td>5.0</td>\n",
       "      <td>{'latitude': 34.1667203, 'longitude': -118.375...</td>\n",
       "      <td>{'address1': '5250 Lankershim', 'address2': No...</td>\n",
       "      <td>$</td>\n",
       "      <td>68</td>\n",
       "    </tr>\n",
       "    <tr>\n",
       "      <th>1</th>\n",
       "      <td>Ganjarunner</td>\n",
       "      <td>False</td>\n",
       "      <td>https://www.yelp.com/biz/ganjarunner-los-angel...</td>\n",
       "      <td>5.0</td>\n",
       "      <td>{'latitude': 34.10161, 'longitude': -118.30206}</td>\n",
       "      <td>{'address1': '', 'address2': '', 'address3': '...</td>\n",
       "      <td>NaN</td>\n",
       "      <td>51</td>\n",
       "    </tr>\n",
       "    <tr>\n",
       "      <th>2</th>\n",
       "      <td>The Higher Path</td>\n",
       "      <td>False</td>\n",
       "      <td>https://www.yelp.com/biz/the-higher-path-sherm...</td>\n",
       "      <td>4.5</td>\n",
       "      <td>{'latitude': 34.1493390052598, 'longitude': -1...</td>\n",
       "      <td>{'address1': '14080 Ventura Blvd', 'address2':...</td>\n",
       "      <td>$$</td>\n",
       "      <td>149</td>\n",
       "    </tr>\n",
       "    <tr>\n",
       "      <th>3</th>\n",
       "      <td>Kushfly</td>\n",
       "      <td>False</td>\n",
       "      <td>https://www.yelp.com/biz/kushfly-los-angeles-2...</td>\n",
       "      <td>4.0</td>\n",
       "      <td>{'latitude': 34.1276, 'longitude': -118.34669}</td>\n",
       "      <td>{'address1': '3151 Cahuenga Blvd W', 'address2...</td>\n",
       "      <td>$$</td>\n",
       "      <td>147</td>\n",
       "    </tr>\n",
       "    <tr>\n",
       "      <th>4</th>\n",
       "      <td>MedMen West Hollywood</td>\n",
       "      <td>False</td>\n",
       "      <td>https://www.yelp.com/biz/medmen-west-hollywood...</td>\n",
       "      <td>4.0</td>\n",
       "      <td>{'latitude': 34.0905911417357, 'longitude': -1...</td>\n",
       "      <td>{'address1': '8208 Santa Monica Blvd', 'addres...</td>\n",
       "      <td>$$</td>\n",
       "      <td>323</td>\n",
       "    </tr>\n",
       "  </tbody>\n",
       "</table>\n",
       "</div>"
      ],
      "text/plain": [
       "                     name  is_closed  \\\n",
       "0  Extra Special Delivery      False   \n",
       "1             Ganjarunner      False   \n",
       "2         The Higher Path      False   \n",
       "3                 Kushfly      False   \n",
       "4   MedMen West Hollywood      False   \n",
       "\n",
       "                                                 url  rating  \\\n",
       "0  https://www.yelp.com/biz/extra-special-deliver...     5.0   \n",
       "1  https://www.yelp.com/biz/ganjarunner-los-angel...     5.0   \n",
       "2  https://www.yelp.com/biz/the-higher-path-sherm...     4.5   \n",
       "3  https://www.yelp.com/biz/kushfly-los-angeles-2...     4.0   \n",
       "4  https://www.yelp.com/biz/medmen-west-hollywood...     4.0   \n",
       "\n",
       "                                         coordinates  \\\n",
       "0  {'latitude': 34.1667203, 'longitude': -118.375...   \n",
       "1    {'latitude': 34.10161, 'longitude': -118.30206}   \n",
       "2  {'latitude': 34.1493390052598, 'longitude': -1...   \n",
       "3     {'latitude': 34.1276, 'longitude': -118.34669}   \n",
       "4  {'latitude': 34.0905911417357, 'longitude': -1...   \n",
       "\n",
       "                                            location price  review_count  \n",
       "0  {'address1': '5250 Lankershim', 'address2': No...     $            68  \n",
       "1  {'address1': '', 'address2': '', 'address3': '...   NaN            51  \n",
       "2  {'address1': '14080 Ventura Blvd', 'address2':...    $$           149  \n",
       "3  {'address1': '3151 Cahuenga Blvd W', 'address2...    $$           147  \n",
       "4  {'address1': '8208 Santa Monica Blvd', 'addres...    $$           323  "
      ]
     },
     "execution_count": 24,
     "metadata": {},
     "output_type": "execute_result"
    }
   ],
   "source": [
    "df_weed.head()"
   ]
  },
  {
   "cell_type": "markdown",
   "metadata": {},
   "source": [
    "Setting latitude and longitude equal to the lat and long lists. "
   ]
  },
  {
   "cell_type": "code",
   "execution_count": 25,
   "metadata": {},
   "outputs": [],
   "source": [
    "df_weed['latitude'] = lat_list"
   ]
  },
  {
   "cell_type": "code",
   "execution_count": 26,
   "metadata": {},
   "outputs": [],
   "source": [
    "df_weed['longitude'] = long_list"
   ]
  },
  {
   "cell_type": "code",
   "execution_count": 27,
   "metadata": {},
   "outputs": [],
   "source": [
    "# long_list_2 = [df_weed.loc[i]['longitude'] for i in range(len(df_weed['longitude']))]"
   ]
  },
  {
   "cell_type": "code",
   "execution_count": 29,
   "metadata": {},
   "outputs": [
    {
     "data": {
      "text/html": [
       "<div>\n",
       "<style scoped>\n",
       "    .dataframe tbody tr th:only-of-type {\n",
       "        vertical-align: middle;\n",
       "    }\n",
       "\n",
       "    .dataframe tbody tr th {\n",
       "        vertical-align: top;\n",
       "    }\n",
       "\n",
       "    .dataframe thead th {\n",
       "        text-align: right;\n",
       "    }\n",
       "</style>\n",
       "<table border=\"1\" class=\"dataframe\">\n",
       "  <thead>\n",
       "    <tr style=\"text-align: right;\">\n",
       "      <th></th>\n",
       "      <th>name</th>\n",
       "      <th>is_closed</th>\n",
       "      <th>url</th>\n",
       "      <th>rating</th>\n",
       "      <th>coordinates</th>\n",
       "      <th>location</th>\n",
       "      <th>price</th>\n",
       "      <th>review_count</th>\n",
       "      <th>latitude</th>\n",
       "      <th>longitude</th>\n",
       "    </tr>\n",
       "  </thead>\n",
       "  <tbody>\n",
       "    <tr>\n",
       "      <th>0</th>\n",
       "      <td>Extra Special Delivery</td>\n",
       "      <td>False</td>\n",
       "      <td>https://www.yelp.com/biz/extra-special-deliver...</td>\n",
       "      <td>5.0</td>\n",
       "      <td>{'latitude': 34.1667203, 'longitude': -118.375...</td>\n",
       "      <td>{'address1': '5250 Lankershim', 'address2': No...</td>\n",
       "      <td>$</td>\n",
       "      <td>68</td>\n",
       "      <td>34.166720</td>\n",
       "      <td>-118.375185</td>\n",
       "    </tr>\n",
       "    <tr>\n",
       "      <th>1</th>\n",
       "      <td>Ganjarunner</td>\n",
       "      <td>False</td>\n",
       "      <td>https://www.yelp.com/biz/ganjarunner-los-angel...</td>\n",
       "      <td>5.0</td>\n",
       "      <td>{'latitude': 34.10161, 'longitude': -118.30206}</td>\n",
       "      <td>{'address1': '', 'address2': '', 'address3': '...</td>\n",
       "      <td>NaN</td>\n",
       "      <td>51</td>\n",
       "      <td>34.101610</td>\n",
       "      <td>-118.302060</td>\n",
       "    </tr>\n",
       "    <tr>\n",
       "      <th>2</th>\n",
       "      <td>The Higher Path</td>\n",
       "      <td>False</td>\n",
       "      <td>https://www.yelp.com/biz/the-higher-path-sherm...</td>\n",
       "      <td>4.5</td>\n",
       "      <td>{'latitude': 34.1493390052598, 'longitude': -1...</td>\n",
       "      <td>{'address1': '14080 Ventura Blvd', 'address2':...</td>\n",
       "      <td>$$</td>\n",
       "      <td>149</td>\n",
       "      <td>34.149339</td>\n",
       "      <td>-118.439875</td>\n",
       "    </tr>\n",
       "    <tr>\n",
       "      <th>3</th>\n",
       "      <td>Kushfly</td>\n",
       "      <td>False</td>\n",
       "      <td>https://www.yelp.com/biz/kushfly-los-angeles-2...</td>\n",
       "      <td>4.0</td>\n",
       "      <td>{'latitude': 34.1276, 'longitude': -118.34669}</td>\n",
       "      <td>{'address1': '3151 Cahuenga Blvd W', 'address2...</td>\n",
       "      <td>$$</td>\n",
       "      <td>147</td>\n",
       "      <td>34.127600</td>\n",
       "      <td>-118.346690</td>\n",
       "    </tr>\n",
       "    <tr>\n",
       "      <th>4</th>\n",
       "      <td>MedMen West Hollywood</td>\n",
       "      <td>False</td>\n",
       "      <td>https://www.yelp.com/biz/medmen-west-hollywood...</td>\n",
       "      <td>4.0</td>\n",
       "      <td>{'latitude': 34.0905911417357, 'longitude': -1...</td>\n",
       "      <td>{'address1': '8208 Santa Monica Blvd', 'addres...</td>\n",
       "      <td>$$</td>\n",
       "      <td>323</td>\n",
       "      <td>34.090591</td>\n",
       "      <td>-118.367290</td>\n",
       "    </tr>\n",
       "  </tbody>\n",
       "</table>\n",
       "</div>"
      ],
      "text/plain": [
       "                     name  is_closed  \\\n",
       "0  Extra Special Delivery      False   \n",
       "1             Ganjarunner      False   \n",
       "2         The Higher Path      False   \n",
       "3                 Kushfly      False   \n",
       "4   MedMen West Hollywood      False   \n",
       "\n",
       "                                                 url  rating  \\\n",
       "0  https://www.yelp.com/biz/extra-special-deliver...     5.0   \n",
       "1  https://www.yelp.com/biz/ganjarunner-los-angel...     5.0   \n",
       "2  https://www.yelp.com/biz/the-higher-path-sherm...     4.5   \n",
       "3  https://www.yelp.com/biz/kushfly-los-angeles-2...     4.0   \n",
       "4  https://www.yelp.com/biz/medmen-west-hollywood...     4.0   \n",
       "\n",
       "                                         coordinates  \\\n",
       "0  {'latitude': 34.1667203, 'longitude': -118.375...   \n",
       "1    {'latitude': 34.10161, 'longitude': -118.30206}   \n",
       "2  {'latitude': 34.1493390052598, 'longitude': -1...   \n",
       "3     {'latitude': 34.1276, 'longitude': -118.34669}   \n",
       "4  {'latitude': 34.0905911417357, 'longitude': -1...   \n",
       "\n",
       "                                            location price  review_count  \\\n",
       "0  {'address1': '5250 Lankershim', 'address2': No...     $            68   \n",
       "1  {'address1': '', 'address2': '', 'address3': '...   NaN            51   \n",
       "2  {'address1': '14080 Ventura Blvd', 'address2':...    $$           149   \n",
       "3  {'address1': '3151 Cahuenga Blvd W', 'address2...    $$           147   \n",
       "4  {'address1': '8208 Santa Monica Blvd', 'addres...    $$           323   \n",
       "\n",
       "    latitude   longitude  \n",
       "0  34.166720 -118.375185  \n",
       "1  34.101610 -118.302060  \n",
       "2  34.149339 -118.439875  \n",
       "3  34.127600 -118.346690  \n",
       "4  34.090591 -118.367290  "
      ]
     },
     "execution_count": 29,
     "metadata": {},
     "output_type": "execute_result"
    }
   ],
   "source": [
    "df_weed.head()"
   ]
  },
  {
   "cell_type": "markdown",
   "metadata": {},
   "source": [
    "Dropping the location column."
   ]
  },
  {
   "cell_type": "code",
   "execution_count": 30,
   "metadata": {},
   "outputs": [],
   "source": [
    "df_weed.drop('location', axis = 1, inplace = True)"
   ]
  },
  {
   "cell_type": "markdown",
   "metadata": {},
   "source": [
    "Adding a location column with lat long as a tuple in case our distance function needs it as a tuple for input. "
   ]
  },
  {
   "cell_type": "code",
   "execution_count": 31,
   "metadata": {},
   "outputs": [],
   "source": [
    "df_weed['location'] = list(zip(df_weed['latitude'], df_weed['longitude']))"
   ]
  },
  {
   "cell_type": "code",
   "execution_count": 32,
   "metadata": {},
   "outputs": [
    {
     "data": {
      "text/html": [
       "<div>\n",
       "<style scoped>\n",
       "    .dataframe tbody tr th:only-of-type {\n",
       "        vertical-align: middle;\n",
       "    }\n",
       "\n",
       "    .dataframe tbody tr th {\n",
       "        vertical-align: top;\n",
       "    }\n",
       "\n",
       "    .dataframe thead th {\n",
       "        text-align: right;\n",
       "    }\n",
       "</style>\n",
       "<table border=\"1\" class=\"dataframe\">\n",
       "  <thead>\n",
       "    <tr style=\"text-align: right;\">\n",
       "      <th></th>\n",
       "      <th>name</th>\n",
       "      <th>is_closed</th>\n",
       "      <th>url</th>\n",
       "      <th>rating</th>\n",
       "      <th>coordinates</th>\n",
       "      <th>price</th>\n",
       "      <th>review_count</th>\n",
       "      <th>latitude</th>\n",
       "      <th>longitude</th>\n",
       "      <th>location</th>\n",
       "    </tr>\n",
       "  </thead>\n",
       "  <tbody>\n",
       "    <tr>\n",
       "      <th>0</th>\n",
       "      <td>Extra Special Delivery</td>\n",
       "      <td>False</td>\n",
       "      <td>https://www.yelp.com/biz/extra-special-deliver...</td>\n",
       "      <td>5.0</td>\n",
       "      <td>{'latitude': 34.1667203, 'longitude': -118.375...</td>\n",
       "      <td>$</td>\n",
       "      <td>68</td>\n",
       "      <td>34.166720</td>\n",
       "      <td>-118.375185</td>\n",
       "      <td>(34.1667203, -118.3751849)</td>\n",
       "    </tr>\n",
       "    <tr>\n",
       "      <th>1</th>\n",
       "      <td>Ganjarunner</td>\n",
       "      <td>False</td>\n",
       "      <td>https://www.yelp.com/biz/ganjarunner-los-angel...</td>\n",
       "      <td>5.0</td>\n",
       "      <td>{'latitude': 34.10161, 'longitude': -118.30206}</td>\n",
       "      <td>NaN</td>\n",
       "      <td>51</td>\n",
       "      <td>34.101610</td>\n",
       "      <td>-118.302060</td>\n",
       "      <td>(34.10161, -118.30206)</td>\n",
       "    </tr>\n",
       "    <tr>\n",
       "      <th>2</th>\n",
       "      <td>The Higher Path</td>\n",
       "      <td>False</td>\n",
       "      <td>https://www.yelp.com/biz/the-higher-path-sherm...</td>\n",
       "      <td>4.5</td>\n",
       "      <td>{'latitude': 34.1493390052598, 'longitude': -1...</td>\n",
       "      <td>$$</td>\n",
       "      <td>149</td>\n",
       "      <td>34.149339</td>\n",
       "      <td>-118.439875</td>\n",
       "      <td>(34.1493390052598, -118.439874686508)</td>\n",
       "    </tr>\n",
       "    <tr>\n",
       "      <th>3</th>\n",
       "      <td>Kushfly</td>\n",
       "      <td>False</td>\n",
       "      <td>https://www.yelp.com/biz/kushfly-los-angeles-2...</td>\n",
       "      <td>4.0</td>\n",
       "      <td>{'latitude': 34.1276, 'longitude': -118.34669}</td>\n",
       "      <td>$$</td>\n",
       "      <td>147</td>\n",
       "      <td>34.127600</td>\n",
       "      <td>-118.346690</td>\n",
       "      <td>(34.1276, -118.34669)</td>\n",
       "    </tr>\n",
       "    <tr>\n",
       "      <th>4</th>\n",
       "      <td>MedMen West Hollywood</td>\n",
       "      <td>False</td>\n",
       "      <td>https://www.yelp.com/biz/medmen-west-hollywood...</td>\n",
       "      <td>4.0</td>\n",
       "      <td>{'latitude': 34.0905911417357, 'longitude': -1...</td>\n",
       "      <td>$$</td>\n",
       "      <td>323</td>\n",
       "      <td>34.090591</td>\n",
       "      <td>-118.367290</td>\n",
       "      <td>(34.0905911417357, -118.367290442404)</td>\n",
       "    </tr>\n",
       "  </tbody>\n",
       "</table>\n",
       "</div>"
      ],
      "text/plain": [
       "                     name  is_closed  \\\n",
       "0  Extra Special Delivery      False   \n",
       "1             Ganjarunner      False   \n",
       "2         The Higher Path      False   \n",
       "3                 Kushfly      False   \n",
       "4   MedMen West Hollywood      False   \n",
       "\n",
       "                                                 url  rating  \\\n",
       "0  https://www.yelp.com/biz/extra-special-deliver...     5.0   \n",
       "1  https://www.yelp.com/biz/ganjarunner-los-angel...     5.0   \n",
       "2  https://www.yelp.com/biz/the-higher-path-sherm...     4.5   \n",
       "3  https://www.yelp.com/biz/kushfly-los-angeles-2...     4.0   \n",
       "4  https://www.yelp.com/biz/medmen-west-hollywood...     4.0   \n",
       "\n",
       "                                         coordinates price  review_count  \\\n",
       "0  {'latitude': 34.1667203, 'longitude': -118.375...     $            68   \n",
       "1    {'latitude': 34.10161, 'longitude': -118.30206}   NaN            51   \n",
       "2  {'latitude': 34.1493390052598, 'longitude': -1...    $$           149   \n",
       "3     {'latitude': 34.1276, 'longitude': -118.34669}    $$           147   \n",
       "4  {'latitude': 34.0905911417357, 'longitude': -1...    $$           323   \n",
       "\n",
       "    latitude   longitude                               location  \n",
       "0  34.166720 -118.375185             (34.1667203, -118.3751849)  \n",
       "1  34.101610 -118.302060                 (34.10161, -118.30206)  \n",
       "2  34.149339 -118.439875  (34.1493390052598, -118.439874686508)  \n",
       "3  34.127600 -118.346690                  (34.1276, -118.34669)  \n",
       "4  34.090591 -118.367290  (34.0905911417357, -118.367290442404)  "
      ]
     },
     "execution_count": 32,
     "metadata": {},
     "output_type": "execute_result"
    }
   ],
   "source": [
    "df_weed.head()"
   ]
  },
  {
   "cell_type": "markdown",
   "metadata": {},
   "source": [
    "No that we have lat long and location we can drop coordinates. "
   ]
  },
  {
   "cell_type": "code",
   "execution_count": 33,
   "metadata": {},
   "outputs": [],
   "source": [
    "df_weed.drop(labels = ['coordinates'], axis = 1, inplace = True)"
   ]
  },
  {
   "cell_type": "code",
   "execution_count": 34,
   "metadata": {},
   "outputs": [
    {
     "data": {
      "text/plain": [
       "-118.18426"
      ]
     },
     "execution_count": 34,
     "metadata": {},
     "output_type": "execute_result"
    }
   ],
   "source": [
    "weed_list[154]['coordinates']['longitude']"
   ]
  },
  {
   "cell_type": "code",
   "execution_count": 35,
   "metadata": {},
   "outputs": [
    {
     "data": {
      "text/plain": [
       "(162, 9)"
      ]
     },
     "execution_count": 35,
     "metadata": {},
     "output_type": "execute_result"
    }
   ],
   "source": [
    "df_weed.shape"
   ]
  },
  {
   "cell_type": "markdown",
   "metadata": {},
   "source": [
    "Looking for any duplicates. "
   ]
  },
  {
   "cell_type": "code",
   "execution_count": 36,
   "metadata": {},
   "outputs": [
    {
     "data": {
      "text/plain": [
       "109          Metro Bloomin\n",
       "114    The Cannabis Method\n",
       "Name: name, dtype: object"
      ]
     },
     "execution_count": 36,
     "metadata": {},
     "output_type": "execute_result"
    }
   ],
   "source": [
    "df_weed['name'][df_weed.duplicated('location')]"
   ]
  },
  {
   "cell_type": "code",
   "execution_count": 37,
   "metadata": {},
   "outputs": [
    {
     "data": {
      "text/plain": [
       "'/Users/adamburpee/dsi/project_4/adam_burpee_la7/code'"
      ]
     },
     "execution_count": 37,
     "metadata": {},
     "output_type": "execute_result"
    }
   ],
   "source": [
    "pwd"
   ]
  },
  {
   "cell_type": "markdown",
   "metadata": {},
   "source": [
    "Pushing weed dataframe to csv. "
   ]
  },
  {
   "cell_type": "code",
   "execution_count": 38,
   "metadata": {},
   "outputs": [],
   "source": [
    "df_weed.to_csv('../data/df_weed.csv')"
   ]
  },
  {
   "cell_type": "markdown",
   "metadata": {},
   "source": [
    "Checking for null values"
   ]
  },
  {
   "cell_type": "code",
   "execution_count": 39,
   "metadata": {},
   "outputs": [
    {
     "data": {
      "text/plain": [
       "name             0\n",
       "is_closed        0\n",
       "url              0\n",
       "rating           0\n",
       "price           84\n",
       "review_count     0\n",
       "latitude         0\n",
       "longitude        0\n",
       "location         0\n",
       "dtype: int64"
      ]
     },
     "execution_count": 39,
     "metadata": {},
     "output_type": "execute_result"
    }
   ],
   "source": [
    "df_weed.isnull().sum()"
   ]
  },
  {
   "cell_type": "markdown",
   "metadata": {},
   "source": [
    "Will look at how to deal with null values in the price section later. "
   ]
  },
  {
   "cell_type": "markdown",
   "metadata": {},
   "source": [
    "Importing crime dataset. We downloaded this data from the los angeles city database. "
   ]
  },
  {
   "cell_type": "code",
   "execution_count": 109,
   "metadata": {},
   "outputs": [],
   "source": [
    "crime = pd.read_csv('./data/Crime_Data_from_2010_to_Present.csv')"
   ]
  },
  {
   "cell_type": "markdown",
   "metadata": {},
   "source": [
    "Looking at null values. "
   ]
  },
  {
   "cell_type": "code",
   "execution_count": 111,
   "metadata": {},
   "outputs": [
    {
     "data": {
      "text/plain": [
       "DR Number                       0\n",
       "Date Reported                   0\n",
       "Date Occurred                   0\n",
       "Time Occurred                   0\n",
       "Area ID                         0\n",
       "Area Name                       0\n",
       "Reporting District              0\n",
       "Crime Code                      0\n",
       "Crime Code Description          0\n",
       "MO Codes                   211791\n",
       "Victim Age                      0\n",
       "Victim Sex                 182963\n",
       "Victim Descent             183006\n",
       "Premise Code                   50\n",
       "Premise Description           119\n",
       "Weapon Used Code          1297375\n",
       "Weapon Description        1297376\n",
       "Status Code                     3\n",
       "Status Description              0\n",
       "Crime Code 1                    9\n",
       "Crime Code 2              1822075\n",
       "Crime Code 3              1945645\n",
       "Crime Code 4              1948656\n",
       "Address                         0\n",
       "Cross Street              1623108\n",
       "Location                        0\n",
       "dtype: int64"
      ]
     },
     "execution_count": 111,
     "metadata": {},
     "output_type": "execute_result"
    }
   ],
   "source": [
    "crime.isnull().sum()"
   ]
  },
  {
   "cell_type": "code",
   "execution_count": 113,
   "metadata": {},
   "outputs": [
    {
     "data": {
      "text/plain": [
       "(1948750, 26)"
      ]
     },
     "execution_count": 113,
     "metadata": {},
     "output_type": "execute_result"
    }
   ],
   "source": [
    "crime.shape"
   ]
  },
  {
   "cell_type": "markdown",
   "metadata": {},
   "source": [
    "Replacing all column name spaces with underscores and lowercasing all characters. "
   ]
  },
  {
   "cell_type": "code",
   "execution_count": 114,
   "metadata": {},
   "outputs": [],
   "source": [
    "crime.columns = [column.lower().replace(' ', '_') for column in crime.columns]"
   ]
  },
  {
   "cell_type": "code",
   "execution_count": 119,
   "metadata": {},
   "outputs": [
    {
     "data": {
      "text/html": [
       "<div>\n",
       "<style scoped>\n",
       "    .dataframe tbody tr th:only-of-type {\n",
       "        vertical-align: middle;\n",
       "    }\n",
       "\n",
       "    .dataframe tbody tr th {\n",
       "        vertical-align: top;\n",
       "    }\n",
       "\n",
       "    .dataframe thead th {\n",
       "        text-align: right;\n",
       "    }\n",
       "</style>\n",
       "<table border=\"1\" class=\"dataframe\">\n",
       "  <thead>\n",
       "    <tr style=\"text-align: right;\">\n",
       "      <th></th>\n",
       "      <th>dr_number</th>\n",
       "      <th>date_reported</th>\n",
       "      <th>date_occurred</th>\n",
       "      <th>time_occurred</th>\n",
       "      <th>area_id</th>\n",
       "      <th>area_name</th>\n",
       "      <th>reporting_district</th>\n",
       "      <th>crime_code</th>\n",
       "      <th>crime_code_description</th>\n",
       "      <th>mo_codes</th>\n",
       "      <th>...</th>\n",
       "      <th>weapon_description</th>\n",
       "      <th>status_code</th>\n",
       "      <th>status_description</th>\n",
       "      <th>crime_code_1</th>\n",
       "      <th>crime_code_2</th>\n",
       "      <th>crime_code_3</th>\n",
       "      <th>crime_code_4</th>\n",
       "      <th>address</th>\n",
       "      <th>cross_street</th>\n",
       "      <th>location_</th>\n",
       "    </tr>\n",
       "  </thead>\n",
       "  <tbody>\n",
       "    <tr>\n",
       "      <th>0</th>\n",
       "      <td>110215293</td>\n",
       "      <td>08/08/2011</td>\n",
       "      <td>08/08/2011</td>\n",
       "      <td>1700</td>\n",
       "      <td>2</td>\n",
       "      <td>Rampart</td>\n",
       "      <td>256</td>\n",
       "      <td>930</td>\n",
       "      <td>CRIMINAL THREATS - NO WEAPON DISPLAYED</td>\n",
       "      <td>0421 0432 0444 0601 0913</td>\n",
       "      <td>...</td>\n",
       "      <td>VERBAL THREAT</td>\n",
       "      <td>AO</td>\n",
       "      <td>Adult Other</td>\n",
       "      <td>930.0</td>\n",
       "      <td>NaN</td>\n",
       "      <td>NaN</td>\n",
       "      <td>NaN</td>\n",
       "      <td>1800    WILSHIRE                     BL</td>\n",
       "      <td>NaN</td>\n",
       "      <td>(34.0564, -118.2725)</td>\n",
       "    </tr>\n",
       "    <tr>\n",
       "      <th>1</th>\n",
       "      <td>110215294</td>\n",
       "      <td>08/08/2011</td>\n",
       "      <td>07/30/2011</td>\n",
       "      <td>5</td>\n",
       "      <td>2</td>\n",
       "      <td>Rampart</td>\n",
       "      <td>231</td>\n",
       "      <td>956</td>\n",
       "      <td>LETTERS, LEWD  -  TELEPHONE CALLS, LEWD</td>\n",
       "      <td>1820</td>\n",
       "      <td>...</td>\n",
       "      <td>NaN</td>\n",
       "      <td>IC</td>\n",
       "      <td>Invest Cont</td>\n",
       "      <td>956.0</td>\n",
       "      <td>NaN</td>\n",
       "      <td>NaN</td>\n",
       "      <td>NaN</td>\n",
       "      <td>100 N  OCCIDENTAL                   BL</td>\n",
       "      <td>NaN</td>\n",
       "      <td>(34.0707, -118.2795)</td>\n",
       "    </tr>\n",
       "    <tr>\n",
       "      <th>2</th>\n",
       "      <td>110215295</td>\n",
       "      <td>08/08/2011</td>\n",
       "      <td>08/02/2011</td>\n",
       "      <td>1430</td>\n",
       "      <td>2</td>\n",
       "      <td>Rampart</td>\n",
       "      <td>231</td>\n",
       "      <td>956</td>\n",
       "      <td>LETTERS, LEWD  -  TELEPHONE CALLS, LEWD</td>\n",
       "      <td>1814 2000</td>\n",
       "      <td>...</td>\n",
       "      <td>NaN</td>\n",
       "      <td>AO</td>\n",
       "      <td>Adult Other</td>\n",
       "      <td>956.0</td>\n",
       "      <td>NaN</td>\n",
       "      <td>NaN</td>\n",
       "      <td>NaN</td>\n",
       "      <td>100 S  DILLON                       ST</td>\n",
       "      <td>NaN</td>\n",
       "      <td>(34.0723, -118.2831)</td>\n",
       "    </tr>\n",
       "    <tr>\n",
       "      <th>3</th>\n",
       "      <td>110215296</td>\n",
       "      <td>08/08/2011</td>\n",
       "      <td>08/08/2011</td>\n",
       "      <td>1810</td>\n",
       "      <td>2</td>\n",
       "      <td>Rampart</td>\n",
       "      <td>257</td>\n",
       "      <td>901</td>\n",
       "      <td>VIOLATION OF RESTRAINING ORDER</td>\n",
       "      <td>1814 2000</td>\n",
       "      <td>...</td>\n",
       "      <td>NaN</td>\n",
       "      <td>AO</td>\n",
       "      <td>Adult Other</td>\n",
       "      <td>901.0</td>\n",
       "      <td>NaN</td>\n",
       "      <td>NaN</td>\n",
       "      <td>NaN</td>\n",
       "      <td>1200    WILSHIRE                     BL</td>\n",
       "      <td>NaN</td>\n",
       "      <td>(34.053, -118.2648)</td>\n",
       "    </tr>\n",
       "    <tr>\n",
       "      <th>4</th>\n",
       "      <td>110215299</td>\n",
       "      <td>08/09/2011</td>\n",
       "      <td>08/03/2011</td>\n",
       "      <td>1800</td>\n",
       "      <td>2</td>\n",
       "      <td>Rampart</td>\n",
       "      <td>299</td>\n",
       "      <td>440</td>\n",
       "      <td>THEFT PLAIN - PETTY ($950 &amp; UNDER)</td>\n",
       "      <td>0344 1223 1251 1259</td>\n",
       "      <td>...</td>\n",
       "      <td>STRONG-ARM (HANDS, FIST, FEET OR BODILY FORCE)</td>\n",
       "      <td>IC</td>\n",
       "      <td>Invest Cont</td>\n",
       "      <td>440.0</td>\n",
       "      <td>NaN</td>\n",
       "      <td>NaN</td>\n",
       "      <td>NaN</td>\n",
       "      <td>PICO</td>\n",
       "      <td>UNION</td>\n",
       "      <td>(34.0446, -118.2769)</td>\n",
       "    </tr>\n",
       "  </tbody>\n",
       "</table>\n",
       "<p>5 rows × 26 columns</p>\n",
       "</div>"
      ],
      "text/plain": [
       "   dr_number date_reported date_occurred  time_occurred  area_id area_name  \\\n",
       "0  110215293    08/08/2011    08/08/2011           1700        2   Rampart   \n",
       "1  110215294    08/08/2011    07/30/2011              5        2   Rampart   \n",
       "2  110215295    08/08/2011    08/02/2011           1430        2   Rampart   \n",
       "3  110215296    08/08/2011    08/08/2011           1810        2   Rampart   \n",
       "4  110215299    08/09/2011    08/03/2011           1800        2   Rampart   \n",
       "\n",
       "   reporting_district  crime_code                   crime_code_description  \\\n",
       "0                 256         930   CRIMINAL THREATS - NO WEAPON DISPLAYED   \n",
       "1                 231         956  LETTERS, LEWD  -  TELEPHONE CALLS, LEWD   \n",
       "2                 231         956  LETTERS, LEWD  -  TELEPHONE CALLS, LEWD   \n",
       "3                 257         901           VIOLATION OF RESTRAINING ORDER   \n",
       "4                 299         440       THEFT PLAIN - PETTY ($950 & UNDER)   \n",
       "\n",
       "                   mo_codes  ...  \\\n",
       "0  0421 0432 0444 0601 0913  ...   \n",
       "1                      1820  ...   \n",
       "2                 1814 2000  ...   \n",
       "3                 1814 2000  ...   \n",
       "4       0344 1223 1251 1259  ...   \n",
       "\n",
       "                               weapon_description status_code  \\\n",
       "0                                   VERBAL THREAT          AO   \n",
       "1                                             NaN          IC   \n",
       "2                                             NaN          AO   \n",
       "3                                             NaN          AO   \n",
       "4  STRONG-ARM (HANDS, FIST, FEET OR BODILY FORCE)          IC   \n",
       "\n",
       "  status_description  crime_code_1 crime_code_2  crime_code_3 crime_code_4  \\\n",
       "0        Adult Other         930.0          NaN           NaN          NaN   \n",
       "1        Invest Cont         956.0          NaN           NaN          NaN   \n",
       "2        Adult Other         956.0          NaN           NaN          NaN   \n",
       "3        Adult Other         901.0          NaN           NaN          NaN   \n",
       "4        Invest Cont         440.0          NaN           NaN          NaN   \n",
       "\n",
       "                                   address cross_street             location_  \n",
       "0  1800    WILSHIRE                     BL          NaN  (34.0564, -118.2725)  \n",
       "1   100 N  OCCIDENTAL                   BL          NaN  (34.0707, -118.2795)  \n",
       "2   100 S  DILLON                       ST          NaN  (34.0723, -118.2831)  \n",
       "3  1200    WILSHIRE                     BL          NaN   (34.053, -118.2648)  \n",
       "4                                     PICO        UNION  (34.0446, -118.2769)  \n",
       "\n",
       "[5 rows x 26 columns]"
      ]
     },
     "execution_count": 119,
     "metadata": {},
     "output_type": "execute_result"
    }
   ],
   "source": [
    "crime.head()"
   ]
  },
  {
   "cell_type": "code",
   "execution_count": 116,
   "metadata": {},
   "outputs": [
    {
     "data": {
      "text/plain": [
       "77th Street    134448\n",
       "Southwest      125420\n",
       "N Hollywood    105469\n",
       "Pacific        103227\n",
       "Southeast      102569\n",
       "Mission         96565\n",
       "Northeast       92934\n",
       "Van Nuys        92390\n",
       "Newton          91884\n",
       "Hollywood       90491\n",
       "Topanga         90235\n",
       "Devonshire      89537\n",
       "Central         87727\n",
       "Olympic         87612\n",
       "Harbor          85226\n",
       "West Valley     82805\n",
       "Rampart         82365\n",
       "West LA         81866\n",
       "Wilshire        80350\n",
       "Foothill        73882\n",
       "Hollenbeck      71748\n",
       "Name: area_name, dtype: int64"
      ]
     },
     "execution_count": 116,
     "metadata": {},
     "output_type": "execute_result"
    }
   ],
   "source": [
    "crime.area_name.value_counts()"
   ]
  },
  {
   "cell_type": "code",
   "execution_count": 122,
   "metadata": {},
   "outputs": [
    {
     "data": {
      "text/plain": [
       "dr_number                       0\n",
       "date_reported                   0\n",
       "date_occurred                   0\n",
       "time_occurred                   0\n",
       "area_id                         0\n",
       "area_name                       0\n",
       "reporting_district              0\n",
       "crime_code                      0\n",
       "crime_code_description          0\n",
       "mo_codes                   211791\n",
       "victim_age                      0\n",
       "victim_sex                 182963\n",
       "victim_descent             183006\n",
       "premise_code                   50\n",
       "premise_description           119\n",
       "weapon_used_code          1297375\n",
       "weapon_description        1297376\n",
       "status_code                     3\n",
       "status_description              0\n",
       "crime_code_1                    9\n",
       "crime_code_2              1822075\n",
       "crime_code_3              1945645\n",
       "crime_code_4              1948656\n",
       "address                         0\n",
       "cross_street              1623108\n",
       "location_                       0\n",
       "dtype: int64"
      ]
     },
     "execution_count": 122,
     "metadata": {},
     "output_type": "execute_result"
    }
   ],
   "source": [
    "crime.isnull().sum()"
   ]
  },
  {
   "cell_type": "markdown",
   "metadata": {},
   "source": [
    "Dropping unnecessary columns. "
   ]
  },
  {
   "cell_type": "code",
   "execution_count": 123,
   "metadata": {},
   "outputs": [],
   "source": [
    "crime.drop(labels = ['mo_codes', 'cross_street'], axis = 1, inplace = True)"
   ]
  },
  {
   "cell_type": "code",
   "execution_count": 125,
   "metadata": {},
   "outputs": [],
   "source": [
    "crime.drop(labels = 'weapon_used_code', axis = 1, inplace = True)"
   ]
  },
  {
   "cell_type": "code",
   "execution_count": 126,
   "metadata": {},
   "outputs": [],
   "source": [
    "crime.weapon_description.fillna('unknown', inplace = True)"
   ]
  },
  {
   "cell_type": "code",
   "execution_count": 127,
   "metadata": {},
   "outputs": [
    {
     "data": {
      "text/plain": [
       "dr_number                       0\n",
       "date_reported                   0\n",
       "date_occurred                   0\n",
       "time_occurred                   0\n",
       "area_id                         0\n",
       "area_name                       0\n",
       "reporting_district              0\n",
       "crime_code                      0\n",
       "crime_code_description          0\n",
       "victim_age                      0\n",
       "victim_sex                 182963\n",
       "victim_descent             183006\n",
       "premise_code                   50\n",
       "premise_description           119\n",
       "weapon_description              0\n",
       "status_code                     3\n",
       "status_description              0\n",
       "crime_code_1                    9\n",
       "crime_code_2              1822075\n",
       "crime_code_3              1945645\n",
       "crime_code_4              1948656\n",
       "address                         0\n",
       "location_                       0\n",
       "dtype: int64"
      ]
     },
     "execution_count": 127,
     "metadata": {},
     "output_type": "execute_result"
    }
   ],
   "source": [
    "crime.isnull().sum()"
   ]
  },
  {
   "cell_type": "code",
   "execution_count": 129,
   "metadata": {},
   "outputs": [],
   "source": [
    "crime.drop(labels = ['crime_code_1', 'crime_code_2', 'crime_code_3', 'crime_code_4'], axis = 1, inplace = True)"
   ]
  },
  {
   "cell_type": "code",
   "execution_count": 159,
   "metadata": {},
   "outputs": [
    {
     "data": {
      "text/plain": [
       "dr_number                      0\n",
       "date_reported                  0\n",
       "date_occurred                  0\n",
       "time_occurred                  0\n",
       "area_id                        0\n",
       "area_name                      0\n",
       "reporting_district             0\n",
       "crime_code                     0\n",
       "crime_code_description         0\n",
       "victim_age                     0\n",
       "victim_sex                182963\n",
       "victim_descent            183006\n",
       "premise_code                  50\n",
       "premise_description          119\n",
       "weapon_description             0\n",
       "status_code                    3\n",
       "status_description             0\n",
       "address                        0\n",
       "location_                      0\n",
       "dtype: int64"
      ]
     },
     "execution_count": 159,
     "metadata": {},
     "output_type": "execute_result"
    }
   ],
   "source": [
    "crime.isnull().sum()"
   ]
  },
  {
   "cell_type": "code",
   "execution_count": 170,
   "metadata": {},
   "outputs": [],
   "source": [
    "crime.drop(labels = ['premise_description', 'status_code', 'victim_descent', 'victim_sex', 'premise_code'], axis = 1, inplace = True)"
   ]
  },
  {
   "cell_type": "code",
   "execution_count": 172,
   "metadata": {},
   "outputs": [
    {
     "data": {
      "text/html": [
       "<div>\n",
       "<style scoped>\n",
       "    .dataframe tbody tr th:only-of-type {\n",
       "        vertical-align: middle;\n",
       "    }\n",
       "\n",
       "    .dataframe tbody tr th {\n",
       "        vertical-align: top;\n",
       "    }\n",
       "\n",
       "    .dataframe thead th {\n",
       "        text-align: right;\n",
       "    }\n",
       "</style>\n",
       "<table border=\"1\" class=\"dataframe\">\n",
       "  <thead>\n",
       "    <tr style=\"text-align: right;\">\n",
       "      <th></th>\n",
       "      <th>dr_number</th>\n",
       "      <th>date_reported</th>\n",
       "      <th>date_occurred</th>\n",
       "      <th>time_occurred</th>\n",
       "      <th>area_id</th>\n",
       "      <th>area_name</th>\n",
       "      <th>reporting_district</th>\n",
       "      <th>crime_code</th>\n",
       "      <th>crime_code_description</th>\n",
       "      <th>victim_age</th>\n",
       "      <th>weapon_description</th>\n",
       "      <th>status_description</th>\n",
       "      <th>address</th>\n",
       "      <th>location_</th>\n",
       "    </tr>\n",
       "  </thead>\n",
       "  <tbody>\n",
       "    <tr>\n",
       "      <th>0</th>\n",
       "      <td>110215293</td>\n",
       "      <td>08/08/2011</td>\n",
       "      <td>08/08/2011</td>\n",
       "      <td>1700</td>\n",
       "      <td>2</td>\n",
       "      <td>Rampart</td>\n",
       "      <td>256</td>\n",
       "      <td>930</td>\n",
       "      <td>CRIMINAL THREATS - NO WEAPON DISPLAYED</td>\n",
       "      <td>57</td>\n",
       "      <td>VERBAL THREAT</td>\n",
       "      <td>Adult Other</td>\n",
       "      <td>1800    WILSHIRE                     BL</td>\n",
       "      <td>(34.0564, -118.2725)</td>\n",
       "    </tr>\n",
       "    <tr>\n",
       "      <th>1</th>\n",
       "      <td>110215294</td>\n",
       "      <td>08/08/2011</td>\n",
       "      <td>07/30/2011</td>\n",
       "      <td>5</td>\n",
       "      <td>2</td>\n",
       "      <td>Rampart</td>\n",
       "      <td>231</td>\n",
       "      <td>956</td>\n",
       "      <td>LETTERS, LEWD  -  TELEPHONE CALLS, LEWD</td>\n",
       "      <td>20</td>\n",
       "      <td>unknown</td>\n",
       "      <td>Invest Cont</td>\n",
       "      <td>100 N  OCCIDENTAL                   BL</td>\n",
       "      <td>(34.0707, -118.2795)</td>\n",
       "    </tr>\n",
       "    <tr>\n",
       "      <th>2</th>\n",
       "      <td>110215295</td>\n",
       "      <td>08/08/2011</td>\n",
       "      <td>08/02/2011</td>\n",
       "      <td>1430</td>\n",
       "      <td>2</td>\n",
       "      <td>Rampart</td>\n",
       "      <td>231</td>\n",
       "      <td>956</td>\n",
       "      <td>LETTERS, LEWD  -  TELEPHONE CALLS, LEWD</td>\n",
       "      <td>43</td>\n",
       "      <td>unknown</td>\n",
       "      <td>Adult Other</td>\n",
       "      <td>100 S  DILLON                       ST</td>\n",
       "      <td>(34.0723, -118.2831)</td>\n",
       "    </tr>\n",
       "    <tr>\n",
       "      <th>3</th>\n",
       "      <td>110215296</td>\n",
       "      <td>08/08/2011</td>\n",
       "      <td>08/08/2011</td>\n",
       "      <td>1810</td>\n",
       "      <td>2</td>\n",
       "      <td>Rampart</td>\n",
       "      <td>257</td>\n",
       "      <td>901</td>\n",
       "      <td>VIOLATION OF RESTRAINING ORDER</td>\n",
       "      <td>22</td>\n",
       "      <td>unknown</td>\n",
       "      <td>Adult Other</td>\n",
       "      <td>1200    WILSHIRE                     BL</td>\n",
       "      <td>(34.053, -118.2648)</td>\n",
       "    </tr>\n",
       "    <tr>\n",
       "      <th>4</th>\n",
       "      <td>110215299</td>\n",
       "      <td>08/09/2011</td>\n",
       "      <td>08/03/2011</td>\n",
       "      <td>1800</td>\n",
       "      <td>2</td>\n",
       "      <td>Rampart</td>\n",
       "      <td>299</td>\n",
       "      <td>440</td>\n",
       "      <td>THEFT PLAIN - PETTY ($950 &amp; UNDER)</td>\n",
       "      <td>0</td>\n",
       "      <td>STRONG-ARM (HANDS, FIST, FEET OR BODILY FORCE)</td>\n",
       "      <td>Invest Cont</td>\n",
       "      <td>PICO</td>\n",
       "      <td>(34.0446, -118.2769)</td>\n",
       "    </tr>\n",
       "  </tbody>\n",
       "</table>\n",
       "</div>"
      ],
      "text/plain": [
       "   dr_number date_reported date_occurred  time_occurred  area_id area_name  \\\n",
       "0  110215293    08/08/2011    08/08/2011           1700        2   Rampart   \n",
       "1  110215294    08/08/2011    07/30/2011              5        2   Rampart   \n",
       "2  110215295    08/08/2011    08/02/2011           1430        2   Rampart   \n",
       "3  110215296    08/08/2011    08/08/2011           1810        2   Rampart   \n",
       "4  110215299    08/09/2011    08/03/2011           1800        2   Rampart   \n",
       "\n",
       "   reporting_district  crime_code                   crime_code_description  \\\n",
       "0                 256         930   CRIMINAL THREATS - NO WEAPON DISPLAYED   \n",
       "1                 231         956  LETTERS, LEWD  -  TELEPHONE CALLS, LEWD   \n",
       "2                 231         956  LETTERS, LEWD  -  TELEPHONE CALLS, LEWD   \n",
       "3                 257         901           VIOLATION OF RESTRAINING ORDER   \n",
       "4                 299         440       THEFT PLAIN - PETTY ($950 & UNDER)   \n",
       "\n",
       "   victim_age                              weapon_description  \\\n",
       "0          57                                   VERBAL THREAT   \n",
       "1          20                                         unknown   \n",
       "2          43                                         unknown   \n",
       "3          22                                         unknown   \n",
       "4           0  STRONG-ARM (HANDS, FIST, FEET OR BODILY FORCE)   \n",
       "\n",
       "  status_description                                  address  \\\n",
       "0        Adult Other  1800    WILSHIRE                     BL   \n",
       "1        Invest Cont   100 N  OCCIDENTAL                   BL   \n",
       "2        Adult Other   100 S  DILLON                       ST   \n",
       "3        Adult Other  1200    WILSHIRE                     BL   \n",
       "4        Invest Cont                                     PICO   \n",
       "\n",
       "              location_  \n",
       "0  (34.0564, -118.2725)  \n",
       "1  (34.0707, -118.2795)  \n",
       "2  (34.0723, -118.2831)  \n",
       "3   (34.053, -118.2648)  \n",
       "4  (34.0446, -118.2769)  "
      ]
     },
     "execution_count": 172,
     "metadata": {},
     "output_type": "execute_result"
    }
   ],
   "source": [
    "crime.head()"
   ]
  },
  {
   "cell_type": "code",
   "execution_count": 193,
   "metadata": {},
   "outputs": [],
   "source": [
    "crime.drop(['dr_number', 'date_reported', 'area_id', 'reporting_district', 'crime_code', 'address'], axis = 1, inplace = True)"
   ]
  },
  {
   "cell_type": "code",
   "execution_count": 197,
   "metadata": {},
   "outputs": [],
   "source": [
    "crime.drop(['status_description', 'time_occurred', 'victim_age'], axis = 1, inplace = True)"
   ]
  },
  {
   "cell_type": "code",
   "execution_count": 200,
   "metadata": {},
   "outputs": [
    {
     "data": {
      "text/html": [
       "<div>\n",
       "<style scoped>\n",
       "    .dataframe tbody tr th:only-of-type {\n",
       "        vertical-align: middle;\n",
       "    }\n",
       "\n",
       "    .dataframe tbody tr th {\n",
       "        vertical-align: top;\n",
       "    }\n",
       "\n",
       "    .dataframe thead th {\n",
       "        text-align: right;\n",
       "    }\n",
       "</style>\n",
       "<table border=\"1\" class=\"dataframe\">\n",
       "  <thead>\n",
       "    <tr style=\"text-align: right;\">\n",
       "      <th></th>\n",
       "      <th>date_occurred</th>\n",
       "      <th>area_name</th>\n",
       "      <th>crime_code_description</th>\n",
       "      <th>weapon_description</th>\n",
       "      <th>location_</th>\n",
       "    </tr>\n",
       "  </thead>\n",
       "  <tbody>\n",
       "    <tr>\n",
       "      <th>0</th>\n",
       "      <td>08/08/2011</td>\n",
       "      <td>Rampart</td>\n",
       "      <td>CRIMINAL THREATS - NO WEAPON DISPLAYED</td>\n",
       "      <td>VERBAL THREAT</td>\n",
       "      <td>(34.0564, -118.2725)</td>\n",
       "    </tr>\n",
       "    <tr>\n",
       "      <th>1</th>\n",
       "      <td>07/30/2011</td>\n",
       "      <td>Rampart</td>\n",
       "      <td>LETTERS, LEWD  -  TELEPHONE CALLS, LEWD</td>\n",
       "      <td>unknown</td>\n",
       "      <td>(34.0707, -118.2795)</td>\n",
       "    </tr>\n",
       "    <tr>\n",
       "      <th>2</th>\n",
       "      <td>08/02/2011</td>\n",
       "      <td>Rampart</td>\n",
       "      <td>LETTERS, LEWD  -  TELEPHONE CALLS, LEWD</td>\n",
       "      <td>unknown</td>\n",
       "      <td>(34.0723, -118.2831)</td>\n",
       "    </tr>\n",
       "    <tr>\n",
       "      <th>3</th>\n",
       "      <td>08/08/2011</td>\n",
       "      <td>Rampart</td>\n",
       "      <td>VIOLATION OF RESTRAINING ORDER</td>\n",
       "      <td>unknown</td>\n",
       "      <td>(34.053, -118.2648)</td>\n",
       "    </tr>\n",
       "    <tr>\n",
       "      <th>4</th>\n",
       "      <td>08/03/2011</td>\n",
       "      <td>Rampart</td>\n",
       "      <td>THEFT PLAIN - PETTY ($950 &amp; UNDER)</td>\n",
       "      <td>STRONG-ARM (HANDS, FIST, FEET OR BODILY FORCE)</td>\n",
       "      <td>(34.0446, -118.2769)</td>\n",
       "    </tr>\n",
       "  </tbody>\n",
       "</table>\n",
       "</div>"
      ],
      "text/plain": [
       "  date_occurred area_name                   crime_code_description  \\\n",
       "0    08/08/2011   Rampart   CRIMINAL THREATS - NO WEAPON DISPLAYED   \n",
       "1    07/30/2011   Rampart  LETTERS, LEWD  -  TELEPHONE CALLS, LEWD   \n",
       "2    08/02/2011   Rampart  LETTERS, LEWD  -  TELEPHONE CALLS, LEWD   \n",
       "3    08/08/2011   Rampart           VIOLATION OF RESTRAINING ORDER   \n",
       "4    08/03/2011   Rampart       THEFT PLAIN - PETTY ($950 & UNDER)   \n",
       "\n",
       "                               weapon_description             location_  \n",
       "0                                   VERBAL THREAT  (34.0564, -118.2725)  \n",
       "1                                         unknown  (34.0707, -118.2795)  \n",
       "2                                         unknown  (34.0723, -118.2831)  \n",
       "3                                         unknown   (34.053, -118.2648)  \n",
       "4  STRONG-ARM (HANDS, FIST, FEET OR BODILY FORCE)  (34.0446, -118.2769)  "
      ]
     },
     "execution_count": 200,
     "metadata": {},
     "output_type": "execute_result"
    }
   ],
   "source": [
    "crime.head()"
   ]
  },
  {
   "cell_type": "code",
   "execution_count": 204,
   "metadata": {},
   "outputs": [
    {
     "data": {
      "text/plain": [
       "'/Users/adamburpee/dsi/project_4'"
      ]
     },
     "execution_count": 204,
     "metadata": {},
     "output_type": "execute_result"
    }
   ],
   "source": [
    "pwd"
   ]
  },
  {
   "cell_type": "code",
   "execution_count": 205,
   "metadata": {},
   "outputs": [
    {
     "name": "stdout",
     "output_type": "stream",
     "text": [
      "/Users/adamburpee/dsi/project_4/adam_burpee_la7\n"
     ]
    }
   ],
   "source": [
    "cd adam_burpee_la7/"
   ]
  },
  {
   "cell_type": "code",
   "execution_count": 207,
   "metadata": {},
   "outputs": [
    {
     "name": "stdout",
     "output_type": "stream",
     "text": [
      "/Users/adamburpee/dsi/project_4/adam_burpee_la7/code\n"
     ]
    }
   ],
   "source": [
    "cd code/"
   ]
  },
  {
   "cell_type": "code",
   "execution_count": null,
   "metadata": {},
   "outputs": [],
   "source": [
    "df_weed.to_csv('../data/df_weed.csv')"
   ]
  },
  {
   "cell_type": "code",
   "execution_count": null,
   "metadata": {},
   "outputs": [],
   "source": [
    "crime.to_csv('../data/crime.csv')"
   ]
  },
  {
   "cell_type": "code",
   "execution_count": 208,
   "metadata": {},
   "outputs": [],
   "source": [
    "with open('../assets/crime_df.pkl', 'wb+') as f:\n",
    "    pickle.dump(crime, f)"
   ]
  },
  {
   "cell_type": "code",
   "execution_count": 209,
   "metadata": {},
   "outputs": [],
   "source": [
    "with open('../assets/df_weed.pkl', 'wb+') as f:\n",
    "    pickle.dump(df_weed, f)"
   ]
  },
  {
   "cell_type": "markdown",
   "metadata": {},
   "source": [
    "# Conclusion and Next Steps\n",
    "\n",
    "Now that we've queried the yelp api and uploaded our crime dataset, we can move on to our next notebook and look into crime rates and tendencies, and how they are affected by marijuana legalization. We will be examining crime rates in general, and then focusing on crime within a certain radius of dispensaries. "
   ]
  }
 ],
 "metadata": {
  "kernelspec": {
   "display_name": "Python 3",
   "language": "python",
   "name": "python3"
  },
  "language_info": {
   "codemirror_mode": {
    "name": "ipython",
    "version": 3
   },
   "file_extension": ".py",
   "mimetype": "text/x-python",
   "name": "python",
   "nbconvert_exporter": "python",
   "pygments_lexer": "ipython3",
   "version": "3.7.2"
  }
 },
 "nbformat": 4,
 "nbformat_minor": 2
}
